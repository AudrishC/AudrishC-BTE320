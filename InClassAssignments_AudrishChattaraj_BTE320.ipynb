{
  "nbformat": 4,
  "nbformat_minor": 0,
  "metadata": {
    "colab": {
      "provenance": [],
      "authorship_tag": "ABX9TyPH0cybXzOwYIalqP6D32AQ",
      "include_colab_link": true
    },
    "kernelspec": {
      "name": "python3",
      "display_name": "Python 3"
    },
    "language_info": {
      "name": "python"
    }
  },
  "cells": [
    {
      "cell_type": "markdown",
      "metadata": {
        "id": "view-in-github",
        "colab_type": "text"
      },
      "source": [
        "<a href=\"https://colab.research.google.com/github/AudrishC/AudrishC-BTE320/blob/main/InClassAssignments_AudrishChattaraj_BTE320.ipynb\" target=\"_parent\"><img src=\"https://colab.research.google.com/assets/colab-badge.svg\" alt=\"Open In Colab\"/></a>"
      ]
    },
    {
      "cell_type": "code",
      "execution_count": null,
      "metadata": {
        "colab": {
          "base_uri": "https://localhost:8080/"
        },
        "id": "x682bxvjAHWr",
        "outputId": "257d506e-3a14-4169-90d8-92b3ce70251b"
      },
      "outputs": [
        {
          "output_type": "stream",
          "name": "stdout",
          "text": [
            "Enter sales ($)12000\n",
            "Enter Cost of Goods (%): 40\n",
            "Enter tax rate (%)30\n",
            "Cost of Goods Sold: $4800.0\n",
            "Gross Profit: $7200.0\n",
            "Taxes: $2160.0\n",
            "Net Income: $5040.0\n"
          ]
        }
      ],
      "source": [
        "# Inputs: sales ($) and cost of goods sold pct (%)\n",
        "sales = input(\"Enter sales ($)\")\n",
        "sales = float(sales)\n",
        "\n",
        "cogs_pct = input(\"Enter Cost of Goods (%): \")\n",
        "cogs_pct = float(cogs_pct)\n",
        "\n",
        "rate = input(\"Enter tax rate (%)\")\n",
        "rate = float(rate)\n",
        "\n",
        "# Processes: calculate cogs and gross profit\n",
        "cogs = sales * (cogs_pct / 100)\n",
        "grossprofit = sales - cogs\n",
        "taxes = grossprofit * rate / 100\n",
        "netincome = grossprofit - taxes\n",
        "\n",
        "# Output: display cost of goods sold and gross profit\n",
        "print(f\"Cost of Goods Sold: ${cogs}\")\n",
        "print(f\"Gross Profit: ${grossprofit}\")\n",
        "print(f\"Taxes: ${taxes}\")\n",
        "print(f\"Net Income: ${netincome}\")\n",
        "\n"
      ]
    },
    {
      "cell_type": "code",
      "source": [
        "# In Class Assignment 09/08/2025\n",
        "\n",
        "# Inputs\n",
        "Demand = int(input(\"Enter Demand (Units/Year): \"))\n",
        "Reorder = float(input(\"Enter Reorder cost ($/order): \"))\n",
        "Holding = float(input(\"Enter Holding cost ($/unit/year): \"))\n",
        "\n",
        "# Processes\n",
        "eoq = (2 * Demand * Reorder / Holding) ** 0.5\n",
        "\n",
        "# Output\n",
        "print(f\"EOQ: {eoq} units\")"
      ],
      "metadata": {
        "colab": {
          "base_uri": "https://localhost:8080/"
        },
        "id": "LQuayofxmfbV",
        "outputId": "49da71a2-646f-40ac-f368-2adb76a2f160"
      },
      "execution_count": null,
      "outputs": [
        {
          "output_type": "stream",
          "name": "stdout",
          "text": [
            "Enter Demand (Units/Year): 1000\n",
            "Enter Reorder cost ($/order): 50\n",
            "Enter Holding cost ($/unit/year): 10\n",
            "EOQ: 100.0 units\n"
          ]
        }
      ]
    },
    {
      "cell_type": "code",
      "source": [
        "# In Class Assignment 09/15/2025\n",
        "\n",
        "# Inputs\n",
        "n1 = float(input(\"Enter number 1: \"))\n",
        "n2 = float(input(\"Enter number 2: \"))\n",
        "op = input(\"Enter operator (+, -, *, /, //, ** , % ): \")\n",
        "\n",
        "# Processes\n",
        "\n",
        "if op == \"+\":\n",
        "    res = n1 + n2\n",
        "elif op == \"-\":\n",
        "    res = n1 - n2\n",
        "elif op == \"*\":\n",
        "    res = n1 * n2\n",
        "elif op == \"/\":\n",
        "    res = n1 / n2\n",
        "elif op == \"//\":\n",
        "    res = n1 // n2\n",
        "elif op == \"**\":\n",
        "    res = n1 ** n2\n",
        "elif op == \"%\":\n",
        "    res = n1 % n2\n",
        "else:\n",
        "    res = \"Invalid Operator\"\n",
        "\n",
        "print(res) # or print(f\"result = {res}\")"
      ],
      "metadata": {
        "colab": {
          "base_uri": "https://localhost:8080/"
        },
        "id": "ybbfUvA1qVaq",
        "outputId": "c88e7ef0-7829-49f8-bd6c-e5fed4271b54"
      },
      "execution_count": 4,
      "outputs": [
        {
          "output_type": "stream",
          "name": "stdout",
          "text": [
            "Enter number 1: 10\n",
            "Enter number 2: 7\n",
            "Enter operator (+, -, *, /, //, ** , % ): -\n",
            "3.0\n"
          ]
        }
      ]
    }
  ]
}