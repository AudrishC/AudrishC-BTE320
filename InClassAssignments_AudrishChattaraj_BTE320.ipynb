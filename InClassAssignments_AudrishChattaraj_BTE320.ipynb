{
  "nbformat": 4,
  "nbformat_minor": 0,
  "metadata": {
    "colab": {
      "provenance": [],
      "authorship_tag": "ABX9TyPD9l5XkmHg/mEaxpIUKe4P",
      "include_colab_link": true
    },
    "kernelspec": {
      "name": "python3",
      "display_name": "Python 3"
    },
    "language_info": {
      "name": "python"
    }
  },
  "cells": [
    {
      "cell_type": "markdown",
      "metadata": {
        "id": "view-in-github",
        "colab_type": "text"
      },
      "source": [
        "<a href=\"https://colab.research.google.com/github/AudrishC/AudrishC-BTE320/blob/main/InClassAssignments_AudrishChattaraj_BTE320.ipynb\" target=\"_parent\"><img src=\"https://colab.research.google.com/assets/colab-badge.svg\" alt=\"Open In Colab\"/></a>"
      ]
    },
    {
      "cell_type": "code",
      "execution_count": null,
      "metadata": {
        "colab": {
          "base_uri": "https://localhost:8080/"
        },
        "id": "x682bxvjAHWr",
        "outputId": "257d506e-3a14-4169-90d8-92b3ce70251b"
      },
      "outputs": [
        {
          "output_type": "stream",
          "name": "stdout",
          "text": [
            "Enter sales ($)12000\n",
            "Enter Cost of Goods (%): 40\n",
            "Enter tax rate (%)30\n",
            "Cost of Goods Sold: $4800.0\n",
            "Gross Profit: $7200.0\n",
            "Taxes: $2160.0\n",
            "Net Income: $5040.0\n"
          ]
        }
      ],
      "source": [
        "# Inputs: sales ($) and cost of goods sold pct (%)\n",
        "sales = input(\"Enter sales ($)\")\n",
        "sales = float(sales)\n",
        "\n",
        "cogs_pct = input(\"Enter Cost of Goods (%): \")\n",
        "cogs_pct = float(cogs_pct)\n",
        "\n",
        "rate = input(\"Enter tax rate (%)\")\n",
        "rate = float(rate)\n",
        "\n",
        "# Processes: calculate cogs and gross profit\n",
        "cogs = sales * (cogs_pct / 100)\n",
        "grossprofit = sales - cogs\n",
        "taxes = grossprofit * rate / 100\n",
        "netincome = grossprofit - taxes\n",
        "\n",
        "# Output: display cost of goods sold and gross profit\n",
        "print(f\"Cost of Goods Sold: ${cogs}\")\n",
        "print(f\"Gross Profit: ${grossprofit}\")\n",
        "print(f\"Taxes: ${taxes}\")\n",
        "print(f\"Net Income: ${netincome}\")\n",
        "\n"
      ]
    },
    {
      "cell_type": "code",
      "source": [
        "# In Class Assignment 09/08/2025\n",
        "\n",
        "# Inputs\n",
        "Demand = int(input(\"Enter Demand (Units/Year): \"))\n",
        "Reorder = float(input(\"Enter Reorder cost ($/order): \"))\n",
        "Holding = float(input(\"Enter Holding cost ($/unit/year): \"))\n",
        "\n",
        "# Processes\n",
        "eoq = (2 * Demand * Reorder / Holding) ** 0.5\n",
        "\n",
        "# Output\n",
        "print(f\"EOQ: {eoq} units\")"
      ],
      "metadata": {
        "colab": {
          "base_uri": "https://localhost:8080/"
        },
        "id": "LQuayofxmfbV",
        "outputId": "49da71a2-646f-40ac-f368-2adb76a2f160"
      },
      "execution_count": null,
      "outputs": [
        {
          "output_type": "stream",
          "name": "stdout",
          "text": [
            "Enter Demand (Units/Year): 1000\n",
            "Enter Reorder cost ($/order): 50\n",
            "Enter Holding cost ($/unit/year): 10\n",
            "EOQ: 100.0 units\n"
          ]
        }
      ]
    },
    {
      "cell_type": "code",
      "source": [
        "# In Class Assignment 09/15/2025\n",
        "\n",
        "# Inputs\n",
        "n1 = float(input(\"Enter number 1: \"))\n",
        "n2 = float(input(\"Enter number 2: \"))\n",
        "op = input(\"Enter operator (+, -, *, /, //, ** , % ): \")\n",
        "\n",
        "# Processes\n",
        "\n",
        "if op == \"+\":\n",
        "    res = n1 + n2\n",
        "elif op == \"-\":\n",
        "    res = n1 - n2\n",
        "elif op == \"*\":\n",
        "    res = n1 * n2\n",
        "elif op == \"/\":\n",
        "    res = n1 / n2\n",
        "elif op == \"//\":\n",
        "    res = n1 // n2\n",
        "elif op == \"**\":\n",
        "    res = n1 ** n2\n",
        "elif op == \"%\":\n",
        "    res = n1 % n2\n",
        "else:\n",
        "    res = \"Invalid Operator\"\n",
        "\n",
        "print(res) # or print(f\"result = {res}\")"
      ],
      "metadata": {
        "colab": {
          "base_uri": "https://localhost:8080/"
        },
        "id": "ybbfUvA1qVaq",
        "outputId": "c88e7ef0-7829-49f8-bd6c-e5fed4271b54"
      },
      "execution_count": null,
      "outputs": [
        {
          "output_type": "stream",
          "name": "stdout",
          "text": [
            "Enter number 1: 10\n",
            "Enter number 2: 7\n",
            "Enter operator (+, -, *, /, //, ** , % ): -\n",
            "3.0\n"
          ]
        }
      ]
    },
    {
      "cell_type": "code",
      "source": [
        "# Input\n",
        "\n",
        "for num in range (1,9,1):\n",
        "  print(num,5+2.5*num)\n",
        "\n",
        "\n",
        "# In class assignment 09/17/2025\n",
        "\n"
      ],
      "metadata": {
        "colab": {
          "base_uri": "https://localhost:8080/"
        },
        "id": "sLREZp41_CkQ",
        "outputId": "b4f9b7c7-65a6-4ece-f074-a5bfa7e49206"
      },
      "execution_count": 2,
      "outputs": [
        {
          "output_type": "stream",
          "name": "stdout",
          "text": [
            "1 7.5\n",
            "2 10.0\n",
            "3 12.5\n",
            "4 15.0\n",
            "5 17.5\n",
            "6 20.0\n",
            "7 22.5\n",
            "8 25.0\n"
          ]
        }
      ]
    },
    {
      "cell_type": "code",
      "source": [
        "for hour in range (1,9):\n",
        "  fee = 5 + 2.5 * hour\n",
        "\n",
        "  if fee < 10:\n",
        "    fee = 10.0\n",
        "\n",
        "  elif fee > 20:\n",
        "    fee = 20.0\n",
        "\n",
        "  print (hour, fee)\n",
        ""
      ],
      "metadata": {
        "colab": {
          "base_uri": "https://localhost:8080/"
        },
        "id": "Hr95gvCaEL8y",
        "outputId": "3e989fdd-5b0a-48ef-af2b-90bc8cb3b6d1"
      },
      "execution_count": 8,
      "outputs": [
        {
          "output_type": "stream",
          "name": "stdout",
          "text": [
            "1 10.0\n",
            "2 10.0\n",
            "3 12.5\n",
            "4 15.0\n",
            "5 17.5\n",
            "6 20.0\n",
            "7 20.0\n",
            "8 20.0\n"
          ]
        }
      ]
    },
    {
      "cell_type": "code",
      "source": [
        "# we want to print number and its square\n",
        "# 1 1\n",
        "# 2 4\n",
        "# 3 9\n",
        "\n",
        "\n",
        "# **While - loop\n",
        "\n",
        "number = 1\n",
        "while number < 4:\n",
        "  print(number,number**2)\n",
        "  number = number + 1\n",
        "\n",
        "\n",
        "# vs. for - loop\n",
        "\n",
        "for number in range(1,4):\n",
        "  print(number,number**2)"
      ],
      "metadata": {
        "colab": {
          "base_uri": "https://localhost:8080/"
        },
        "id": "JLKnYEHUG7Al",
        "outputId": "22771783-13d0-4802-f818-e526c37ad593"
      },
      "execution_count": 10,
      "outputs": [
        {
          "output_type": "stream",
          "name": "stdout",
          "text": [
            "1 1\n",
            "2 4\n",
            "3 9\n",
            "1 1\n",
            "2 4\n",
            "3 9\n"
          ]
        }
      ]
    },
    {
      "cell_type": "code",
      "source": [
        "number = float(input(\"Enter a number: \"))\n",
        "while number!= 0:\n",
        "  print(number)\n",
        "  number = float(input(\"Enter another number: \"))"
      ],
      "metadata": {
        "colab": {
          "base_uri": "https://localhost:8080/"
        },
        "id": "xGHc9H5nJjN2",
        "outputId": "39044f40-d059-4eaa-fb97-07a1413c5803"
      },
      "execution_count": 11,
      "outputs": [
        {
          "name": "stdout",
          "output_type": "stream",
          "text": [
            "Enter a number: 29\n",
            "29.0\n",
            "Enter another number: 201\n",
            "201.0\n",
            "Enter another number: 1203\n",
            "1203.0\n",
            "Enter another number: 22\n",
            "22.0\n",
            "Enter another number: 0\n"
          ]
        }
      ]
    },
    {
      "cell_type": "code",
      "source": [
        "for number in range(10):\n",
        "  if number % 2 != 0:\n",
        "    continue\n",
        "  print (number)"
      ],
      "metadata": {
        "colab": {
          "base_uri": "https://localhost:8080/"
        },
        "id": "_UVM5zsyLoNw",
        "outputId": "3499137b-af45-4e58-c36b-05ef87f2723d"
      },
      "execution_count": 12,
      "outputs": [
        {
          "output_type": "stream",
          "name": "stdout",
          "text": [
            "0\n",
            "2\n",
            "4\n",
            "6\n",
            "8\n"
          ]
        }
      ]
    },
    {
      "cell_type": "code",
      "source": [
        "for i in range (100000000000):\n",
        "  if i ==3:\n",
        "    break\n",
        "  print(i)"
      ],
      "metadata": {
        "colab": {
          "base_uri": "https://localhost:8080/"
        },
        "id": "ZrFwAyC7MU5y",
        "outputId": "426b6e1f-4ed1-403f-ff87-b72a184b5b1a"
      },
      "execution_count": 13,
      "outputs": [
        {
          "output_type": "stream",
          "name": "stdout",
          "text": [
            "0\n",
            "1\n",
            "2\n"
          ]
        }
      ]
    }
  ]
}