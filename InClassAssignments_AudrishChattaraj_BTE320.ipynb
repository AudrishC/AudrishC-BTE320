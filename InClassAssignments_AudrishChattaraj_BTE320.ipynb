{
  "nbformat": 4,
  "nbformat_minor": 0,
  "metadata": {
    "colab": {
      "provenance": [],
      "authorship_tag": "ABX9TyNGWLKIZnE1lMqPySLbsntE",
      "include_colab_link": true
    },
    "kernelspec": {
      "name": "python3",
      "display_name": "Python 3"
    },
    "language_info": {
      "name": "python"
    }
  },
  "cells": [
    {
      "cell_type": "markdown",
      "metadata": {
        "id": "view-in-github",
        "colab_type": "text"
      },
      "source": [
        "<a href=\"https://colab.research.google.com/github/AudrishC/AudrishC-BTE320/blob/main/InClassAssignments_AudrishChattaraj_BTE320.ipynb\" target=\"_parent\"><img src=\"https://colab.research.google.com/assets/colab-badge.svg\" alt=\"Open In Colab\"/></a>"
      ]
    },
    {
      "cell_type": "code",
      "execution_count": null,
      "metadata": {
        "colab": {
          "base_uri": "https://localhost:8080/"
        },
        "id": "x682bxvjAHWr",
        "outputId": "257d506e-3a14-4169-90d8-92b3ce70251b"
      },
      "outputs": [
        {
          "output_type": "stream",
          "name": "stdout",
          "text": [
            "Enter sales ($)12000\n",
            "Enter Cost of Goods (%): 40\n",
            "Enter tax rate (%)30\n",
            "Cost of Goods Sold: $4800.0\n",
            "Gross Profit: $7200.0\n",
            "Taxes: $2160.0\n",
            "Net Income: $5040.0\n"
          ]
        }
      ],
      "source": [
        "# Inputs: sales ($) and cost of goods sold pct (%)\n",
        "sales = input(\"Enter sales ($)\")\n",
        "sales = float(sales)\n",
        "\n",
        "cogs_pct = input(\"Enter Cost of Goods (%): \")\n",
        "cogs_pct = float(cogs_pct)\n",
        "\n",
        "rate = input(\"Enter tax rate (%)\")\n",
        "rate = float(rate)\n",
        "\n",
        "# Processes: calculate cogs and gross profit\n",
        "cogs = sales * (cogs_pct / 100)\n",
        "grossprofit = sales - cogs\n",
        "taxes = grossprofit * rate / 100\n",
        "netincome = grossprofit - taxes\n",
        "\n",
        "# Output: display cost of goods sold and gross profit\n",
        "print(f\"Cost of Goods Sold: ${cogs}\")\n",
        "print(f\"Gross Profit: ${grossprofit}\")\n",
        "print(f\"Taxes: ${taxes}\")\n",
        "print(f\"Net Income: ${netincome}\")\n",
        "\n"
      ]
    },
    {
      "cell_type": "code",
      "source": [
        "# In Class Assignment 09/08/2025\n",
        "\n",
        "# Inputs\n",
        "Demand = int(input(\"Enter Demand (Units/Year): \"))\n",
        "Reorder = float(input(\"Enter Reorder cost ($/order): \"))\n",
        "Holding = float(input(\"Enter Holding cost ($/unit/year): \"))\n",
        "\n",
        "# Processes\n",
        "eoq = (2 * Demand * Reorder / Holding) ** 0.5\n",
        "\n",
        "# Output\n",
        "print(f\"EOQ: {eoq} units\")"
      ],
      "metadata": {
        "colab": {
          "base_uri": "https://localhost:8080/"
        },
        "id": "LQuayofxmfbV",
        "outputId": "49da71a2-646f-40ac-f368-2adb76a2f160"
      },
      "execution_count": null,
      "outputs": [
        {
          "output_type": "stream",
          "name": "stdout",
          "text": [
            "Enter Demand (Units/Year): 1000\n",
            "Enter Reorder cost ($/order): 50\n",
            "Enter Holding cost ($/unit/year): 10\n",
            "EOQ: 100.0 units\n"
          ]
        }
      ]
    },
    {
      "cell_type": "code",
      "source": [
        "# In Class Assignment 09/15/2025\n",
        "\n",
        "# Inputs\n",
        "n1 = float(input(\"Enter number 1: \"))\n",
        "n2 = float(input(\"Enter number 2: \"))\n",
        "op = input(\"Enter operator (+, -, *, /, //, ** , % ): \")\n",
        "\n",
        "# Processes\n",
        "\n",
        "if op == \"+\":\n",
        "    res = n1 + n2\n",
        "elif op == \"-\":\n",
        "    res = n1 - n2\n",
        "elif op == \"*\":\n",
        "    res = n1 * n2\n",
        "elif op == \"/\":\n",
        "    res = n1 / n2\n",
        "elif op == \"//\":\n",
        "    res = n1 // n2\n",
        "elif op == \"**\":\n",
        "    res = n1 ** n2\n",
        "elif op == \"%\":\n",
        "    res = n1 % n2\n",
        "else:\n",
        "    res = \"Invalid Operator\"\n",
        "\n",
        "print(res) # or print(f\"result = {res}\")"
      ],
      "metadata": {
        "colab": {
          "base_uri": "https://localhost:8080/"
        },
        "id": "ybbfUvA1qVaq",
        "outputId": "c88e7ef0-7829-49f8-bd6c-e5fed4271b54"
      },
      "execution_count": null,
      "outputs": [
        {
          "output_type": "stream",
          "name": "stdout",
          "text": [
            "Enter number 1: 10\n",
            "Enter number 2: 7\n",
            "Enter operator (+, -, *, /, //, ** , % ): -\n",
            "3.0\n"
          ]
        }
      ]
    },
    {
      "cell_type": "code",
      "source": [
        "# Input\n",
        "\n",
        "for num in range (1,9,1):\n",
        "  print(num,5+2.5*num)\n",
        "\n",
        "\n",
        "# In class assignment 09/17/2025\n",
        "\n"
      ],
      "metadata": {
        "colab": {
          "base_uri": "https://localhost:8080/"
        },
        "id": "sLREZp41_CkQ",
        "outputId": "b4f9b7c7-65a6-4ece-f074-a5bfa7e49206"
      },
      "execution_count": null,
      "outputs": [
        {
          "output_type": "stream",
          "name": "stdout",
          "text": [
            "1 7.5\n",
            "2 10.0\n",
            "3 12.5\n",
            "4 15.0\n",
            "5 17.5\n",
            "6 20.0\n",
            "7 22.5\n",
            "8 25.0\n"
          ]
        }
      ]
    },
    {
      "cell_type": "code",
      "source": [
        "# In Class Assignment 09/22/2025\n",
        "\n",
        "print(\"Ad ($) Profit ($)\")\n",
        "for ad in range (0,201, 25):\n",
        "  revenue = (20 + 2 * ad ** 0.5) * 10\n",
        "  costs = 200 + ad\n",
        "  profit = revenue - costs\n",
        "  print(ad,round(profit))\n"
      ],
      "metadata": {
        "colab": {
          "base_uri": "https://localhost:8080/"
        },
        "id": "Zq402MQvtvUE",
        "outputId": "aa51b571-89ad-4040-b967-abd3129d0b2f"
      },
      "execution_count": null,
      "outputs": [
        {
          "output_type": "stream",
          "name": "stdout",
          "text": [
            "Ad ($) Profit ($)\n",
            "0 0\n",
            "25 75\n",
            "50 91\n",
            "75 98\n",
            "100 100\n",
            "125 99\n",
            "150 95\n",
            "175 90\n",
            "200 83\n"
          ]
        }
      ]
    },
    {
      "cell_type": "code",
      "source": [
        "# In class assignment 09/24\n",
        "numbers = []\n",
        "num = float(input(\"give me a number:\"))\n",
        "\n",
        "while num != 0:\n",
        "  numbers.append(num)\n",
        "  num = float(input(\"give me another number:\"))\n",
        "\n",
        "numbers.sort(reverse=True)\n",
        "print(numbers)"
      ],
      "metadata": {
        "id": "xO5uX_FYQPfu",
        "outputId": "19d14439-5a5a-41e5-ff3c-70c31f631b23",
        "colab": {
          "base_uri": "https://localhost:8080/"
        }
      },
      "execution_count": null,
      "outputs": [
        {
          "output_type": "stream",
          "name": "stdout",
          "text": [
            "give me a number:5\n",
            "give me another number:6\n",
            "give me another number:7\n",
            "give me another number:3\n",
            "give me another number:8\n",
            "give me another number:0\n",
            "[8.0, 7.0, 6.0, 5.0, 3.0]\n"
          ]
        }
      ]
    },
    {
      "cell_type": "code",
      "source": [
        "# In Class Assignment 09/29/2025\n",
        "# from ChatGPT per instructions\n",
        "\n",
        "import random\n",
        "\n",
        "print(\"Welcome to Rock-Paper-Scissors!\")\n",
        "\n",
        "while True:\n",
        "    play = input(\"Do you want to play? (yes/no): \").strip().lower()\n",
        "    if play != \"yes\":\n",
        "        print(\"Thanks for playing! Goodbye.\")\n",
        "        break\n",
        "\n",
        "    user = input(\"Choose rock, paper, or scissors: \").strip().lower()\n",
        "    computer = random.choice(['rock', 'paper', 'scissors'])\n",
        "    print(f\"Computer chose: {computer}\")\n",
        "\n",
        "    if user == computer:\n",
        "        print(\"It's a tie!\")\n",
        "    elif (user == 'rock' and computer == 'scissors') or \\\n",
        "         (user == 'paper' and computer == 'rock') or \\\n",
        "         (user == 'scissors' and computer == 'paper'):\n",
        "        print(\"You win!\")\n",
        "    elif user in ['rock', 'paper', 'scissors']:\n",
        "        print(\"Computer wins!\")\n",
        "    else:\n",
        "        print(\"Invalid input. Please choose rock, paper, or scissors.\")"
      ],
      "metadata": {
        "colab": {
          "base_uri": "https://localhost:8080/"
        },
        "id": "y3bA8_mL9-qd",
        "outputId": "97ae280f-a246-410f-e402-34cdc93583b5"
      },
      "execution_count": 1,
      "outputs": [
        {
          "output_type": "stream",
          "name": "stdout",
          "text": [
            "Welcome to Rock-Paper-Scissors!\n",
            "Do you want to play? (yes/no): yes\n",
            "Choose rock, paper, or scissors: rock\n",
            "Computer chose: paper\n",
            "Computer wins!\n",
            "Do you want to play? (yes/no): yes\n",
            "Choose rock, paper, or scissors: scissors\n",
            "Computer chose: rock\n",
            "Computer wins!\n",
            "Do you want to play? (yes/no): yes\n",
            "Choose rock, paper, or scissors: rock\n",
            "Computer chose: scissors\n",
            "You win!\n",
            "Do you want to play? (yes/no): yes\n",
            "Choose rock, paper, or scissors: paper\n",
            "Computer chose: paper\n",
            "It's a tie!\n",
            "Do you want to play? (yes/no): no\n",
            "Thanks for playing! Goodbye.\n"
          ]
        }
      ]
    },
    {
      "cell_type": "code",
      "source": [
        "# In Class Assignment 09/29/2025\n",
        "# Class reconstructions\n",
        "\n",
        "while True"
      ],
      "metadata": {
        "id": "TqN9O2zUAhES"
      },
      "execution_count": null,
      "outputs": []
    }
  ]
}